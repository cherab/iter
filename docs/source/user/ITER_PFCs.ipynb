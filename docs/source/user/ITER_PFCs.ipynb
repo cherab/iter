{
 "cells": [
  {
   "attachments": {},
   "cell_type": "markdown",
   "metadata": {},
   "source": [
    "# Plasma Facing Components\n",
    "\n",
    "\n",
    "Cherab-ITER provides Plasma Facing Components (PFC) meshes which limitate field of views of observers.\n",
    "The PFCs are defined by a set of raysect mesh files (`.rsm`), which are created from IMAS stored data."
   ]
  },
  {
   "cell_type": "raw",
   "metadata": {
    "raw_mimetype": "text/restructuredtext",
    "vscode": {
     "languageId": "raw"
    }
   },
   "source": [
    "When you load PFC meshes into your scenegraph,\n",
    "you can use the following function: :obj:`.load_pfc_mesh`.\n",
    "\n",
    "Here is an example of the use of the function:"
   ]
  },
  {
   "cell_type": "code",
   "execution_count": null,
   "metadata": {},
   "outputs": [],
   "source": [
    "from raysect.optical import World\n",
    "\n",
    "from cherab.iter.machine import load_pfc_mesh\n",
    "\n",
    "world = World()\n",
    "meshes = load_pfc_mesh(world, reflection=True)"
   ]
  },
  {
   "cell_type": "markdown",
   "metadata": {},
   "source": [
    "And loaded PFCs are shown as follows."
   ]
  },
  {
   "cell_type": "code",
   "execution_count": null,
   "metadata": {},
   "outputs": [],
   "source": [
    "from rich import print\n",
    "\n",
    "print(meshes)"
   ]
  },
  {
   "cell_type": "raw",
   "metadata": {
    "raw_mimetype": "text/restructuredtext",
    "vscode": {
     "languageId": "raw"
    }
   },
   "source": [
    "If you want to visualize what PFCs are loaded, you can use :obj:`.visualize_pfc_meshes` function."
   ]
  },
  {
   "cell_type": "code",
   "execution_count": null,
   "metadata": {
    "jupyter": {
     "source_hidden": true
    },
    "tags": []
   },
   "outputs": [],
   "source": [
    "from cherab.iter.machine.wall import visualize_pfc_meshes\n",
    "\n",
    "fig = visualize_pfc_meshes(meshes)\n",
    "fig.show(renderer=\"jpg\")"
   ]
  }
 ],
 "metadata": {
  "kernelspec": {
   "display_name": "lab",
   "language": "python",
   "name": "python3"
  },
  "language_info": {
   "codemirror_mode": {
    "name": "ipython",
    "version": 3
   },
   "file_extension": ".py",
   "mimetype": "text/x-python",
   "name": "python",
   "nbconvert_exporter": "python",
   "pygments_lexer": "ipython3",
   "version": "3.12.8"
  },
  "widgets": {
   "application/vnd.jupyter.widget-state+json": {
    "state": {},
    "version_major": 2,
    "version_minor": 0
   }
  }
 },
 "nbformat": 4,
 "nbformat_minor": 4
}
